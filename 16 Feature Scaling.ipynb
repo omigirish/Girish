{
 "cells": [
  {
   "cell_type": "markdown",
   "metadata": {},
   "source": [
    "# Feature Scaling"
   ]
  },
  {
   "cell_type": "raw",
   "metadata": {},
   "source": [
    "When dealing with numeric features, we have specific attributes which may be completely unbounded in nature, like view counts of a video or web page hits. \n",
    "\n",
    "Using the raw values as input features might make models biased toward features having really high magnitude values. Linear or Logistic regression models are typically sensitive to the magnitude or scale of features.\n",
    "\n",
    "Lets understand scaling through some simple examples."
   ]
  },
  {
   "cell_type": "code",
   "execution_count": 1,
   "metadata": {},
   "outputs": [],
   "source": [
    "# # Import necessary dependencies and settings\n",
    "\n",
    "from sklearn.preprocessing import StandardScaler, MinMaxScaler, RobustScaler\n",
    "import numpy as np\n",
    "import pandas as pd"
   ]
  },
  {
   "cell_type": "code",
   "execution_count": 2,
   "metadata": {},
   "outputs": [
    {
     "data": {
      "text/html": [
       "<div>\n",
       "<style scoped>\n",
       "    .dataframe tbody tr th:only-of-type {\n",
       "        vertical-align: middle;\n",
       "    }\n",
       "\n",
       "    .dataframe tbody tr th {\n",
       "        vertical-align: top;\n",
       "    }\n",
       "\n",
       "    .dataframe thead th {\n",
       "        text-align: right;\n",
       "    }\n",
       "</style>\n",
       "<table border=\"1\" class=\"dataframe\">\n",
       "  <thead>\n",
       "    <tr style=\"text-align: right;\">\n",
       "      <th></th>\n",
       "      <th>VIEW</th>\n",
       "    </tr>\n",
       "  </thead>\n",
       "  <tbody>\n",
       "    <tr>\n",
       "      <td>0</td>\n",
       "      <td>1295.0</td>\n",
       "    </tr>\n",
       "    <tr>\n",
       "      <td>1</td>\n",
       "      <td>25.0</td>\n",
       "    </tr>\n",
       "    <tr>\n",
       "      <td>2</td>\n",
       "      <td>19000.0</td>\n",
       "    </tr>\n",
       "    <tr>\n",
       "      <td>3</td>\n",
       "      <td>5.0</td>\n",
       "    </tr>\n",
       "    <tr>\n",
       "      <td>4</td>\n",
       "      <td>1.0</td>\n",
       "    </tr>\n",
       "    <tr>\n",
       "      <td>5</td>\n",
       "      <td>300.0</td>\n",
       "    </tr>\n",
       "  </tbody>\n",
       "</table>\n",
       "</div>"
      ],
      "text/plain": [
       "      VIEW\n",
       "0   1295.0\n",
       "1     25.0\n",
       "2  19000.0\n",
       "3      5.0\n",
       "4      1.0\n",
       "5    300.0"
      ]
     },
     "execution_count": 2,
     "metadata": {},
     "output_type": "execute_result"
    }
   ],
   "source": [
    "# # Load sample data of video views\n",
    "views = pd.DataFrame([1295., 25., 19000., 5., 1., 300.], columns=['VIEW'])\n",
    "views"
   ]
  },
  {
   "cell_type": "raw",
   "metadata": {},
   "source": [
    "# From the preceding dataframe we can see that we have six videos \n",
    "# that have been viewed by users and the total view count for each video \n",
    "# is depicted by the feature views. It is quite evident that some videos \n",
    "# have been viewed a lot more than the others, \n",
    "# giving a rise to values of high scale and magnitude."
   ]
  },
  {
   "cell_type": "markdown",
   "metadata": {},
   "source": [
    "# Standardized Scaling"
   ]
  },
  {
   "cell_type": "markdown",
   "metadata": {},
   "source": [
    "![formaulae standard scalar](datasets_n_images/images/formulae_standard_scalar.png 'formulae_standard_scalar')"
   ]
  },
  {
   "cell_type": "raw",
   "metadata": {},
   "source": [
    "where each value in feature X is subtracted by the mean μX and the resultant is divided by the standard deviation σX. This is also popularly known as Z-score scaling. You can also divide the resultant by the variance instead of the standard deviation if needed. The following snippet helps us achieve this."
   ]
  },
  {
   "cell_type": "code",
   "execution_count": 3,
   "metadata": {},
   "outputs": [
    {
     "name": "stdout",
     "output_type": "stream",
     "text": [
      "      VIEW    zscore\n",
      "0   1295.0 -0.307214\n",
      "1     25.0 -0.489306\n",
      "2  19000.0  2.231317\n",
      "3      5.0 -0.492173\n",
      "4      1.0 -0.492747\n",
      "5    300.0 -0.449877\n"
     ]
    }
   ],
   "source": [
    "ss = StandardScaler()\n",
    "views['zscore'] = ss.fit_transform(views[['VIEW']])\n",
    "print(views)"
   ]
  },
  {
   "cell_type": "markdown",
   "metadata": {},
   "source": [
    "# Min-Max Scaling"
   ]
  },
  {
   "cell_type": "raw",
   "metadata": {},
   "source": [
    "With min-max scaling, we can transform and scale our feature values such that each value is within the range of [0, 1]."
   ]
  },
  {
   "cell_type": "markdown",
   "metadata": {},
   "source": [
    "![formaulae minMax scalar](datasets_n_images/images/min_max_scalar.png 'formulae_minMax_scalar')"
   ]
  },
  {
   "cell_type": "code",
   "execution_count": 4,
   "metadata": {},
   "outputs": [
    {
     "name": "stdout",
     "output_type": "stream",
     "text": [
      "      VIEW    zscore    minmax\n",
      "0   1295.0 -0.307214  0.068109\n",
      "1     25.0 -0.489306  0.001263\n",
      "2  19000.0  2.231317  1.000000\n",
      "3      5.0 -0.492173  0.000211\n",
      "4      1.0 -0.492747  0.000000\n",
      "5    300.0 -0.449877  0.015738\n"
     ]
    }
   ],
   "source": [
    "# applying Min Max Scalar\n",
    "\n",
    "mms = MinMaxScaler()\n",
    "views['minmax'] = mms.fit_transform(views[['VIEW']])\n",
    "print(views)\n",
    "\n",
    "# Note this : In the minmax column, the maximum viewed video \n",
    "# in row index 2 has a value of 1, and the minimum viewed video \n",
    "# in row index 4 has a value of 0."
   ]
  },
  {
   "cell_type": "markdown",
   "metadata": {},
   "source": [
    "# Robust Scaling"
   ]
  },
  {
   "cell_type": "markdown",
   "metadata": {},
   "source": [
    "The disadvantage of min-max scaling is that often the presence of outliers affects the scaled values for any feature. Robust scaling tries to use specific statistical measures to scale features without being affected by outliers. Mathematically this scaler can be represented as"
   ]
  },
  {
   "cell_type": "markdown",
   "metadata": {},
   "source": [
    "![formaulae Robust scalar](datasets_n_images/images/robust_scalar.png 'formulae_robust_scalar')"
   ]
  },
  {
   "cell_type": "markdown",
   "metadata": {},
   "source": [
    "where we scale each value of feature X by subtracting the median of X and dividing the resultant by the IQR also known as the Inter-Quartile Range of X which is the range (difference) between the first quartile (25th %ile) and the third quartile (75th %ile)."
   ]
  },
  {
   "cell_type": "code",
   "execution_count": 5,
   "metadata": {},
   "outputs": [
    {
     "name": "stdout",
     "output_type": "stream",
     "text": [
      "      VIEW    zscore    minmax     robust\n",
      "0   1295.0 -0.307214  0.068109   1.092883\n",
      "1     25.0 -0.489306  0.001263  -0.132690\n",
      "2  19000.0  2.231317  1.000000  18.178528\n",
      "3      5.0 -0.492173  0.000211  -0.151990\n",
      "4      1.0 -0.492747  0.000000  -0.155850\n",
      "5    300.0 -0.449877  0.015738   0.132690\n"
     ]
    }
   ],
   "source": [
    "# applying Robust Scalar\n",
    "\n",
    "rs = RobustScaler()\n",
    "views['robust'] = rs.fit_transform(views[['VIEW']])\n",
    "print(views)"
   ]
  },
  {
   "cell_type": "markdown",
   "metadata": {},
   "source": [
    "There are several other techniques for feature scaling and normalization, but these should be sufficient to get you started and are used extensively in building Machine Learning systems."
   ]
  },
  {
   "cell_type": "markdown",
   "metadata": {},
   "source": [
    "Important Takeaways:\n",
    "--\n",
    "![Scaling](datasets_n_images/images/Scaling.png 'Scaling')"
   ]
  }
 ],
 "metadata": {
  "kernelspec": {
   "display_name": "Python 3",
   "language": "python",
   "name": "python3"
  },
  "language_info": {
   "codemirror_mode": {
    "name": "ipython",
    "version": 3
   },
   "file_extension": ".py",
   "mimetype": "text/x-python",
   "name": "python",
   "nbconvert_exporter": "python",
   "pygments_lexer": "ipython3",
   "version": "3.7.3"
  },
  "toc": {
   "base_numbering": 1,
   "nav_menu": {},
   "number_sections": true,
   "sideBar": true,
   "skip_h1_title": false,
   "title_cell": "Table of Contents",
   "title_sidebar": "Contents",
   "toc_cell": false,
   "toc_position": {},
   "toc_section_display": true,
   "toc_window_display": false
  }
 },
 "nbformat": 4,
 "nbformat_minor": 2
}
