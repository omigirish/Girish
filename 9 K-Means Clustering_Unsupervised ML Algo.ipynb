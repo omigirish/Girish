{
 "cells": [
  {
   "cell_type": "markdown",
   "metadata": {},
   "source": [
    "K-Means Clustering with Scikit-Learn\n",
    "-----------------------------------------------------"
   ]
  },
  {
   "cell_type": "markdown",
   "metadata": {},
   "source": [
    "K-means clustering is one of the most widely used unsupervised machine learning algorithms that forms clusters of data based on the similarity between data instances. For this particular algorithm to work, the number of clusters has to be defined beforehand. The K in the K-means refers to the number of clusters.\n",
    "\n",
    "The K-means algorithm starts by randomly choosing a centroid value for each cluster. After that the algorithm iteratively performs three steps: \n",
    "\n",
    "(i) Find the Euclidean distance between each data instance and centroids of all the clusters; \n",
    "\n",
    "(ii) Assign the data instances to the cluster of the centroid with nearest distance; \n",
    "\n",
    "(iii) Calculate new centroid values based on the mean values of the coordinates of all the data instances from the corresponding cluster."
   ]
  },
  {
   "cell_type": "markdown",
   "metadata": {},
   "source": [
    "A Simple Example\n",
    "--------------------------\n",
    "Let's try to see how the K-means algorithm works with the help of a handcrafted example, before implementing the algorithm in Scikit-Learn.\n",
    "\n",
    "We have a set of the following two dimensional data instances named D."
   ]
  },
  {
   "cell_type": "code",
   "execution_count": null,
   "metadata": {},
   "outputs": [],
   "source": [
    "D = { (5,3), (10,15), (15,12), (24,10), (30,45), (85,70), (71,80), (60,78), (55,52), (80,91) }  \n",
    "\n",
    "# We want to divide this data into two clusters, \n",
    "# C1 and C2 based on the similarity between the data points."
   ]
  },
  {
   "cell_type": "markdown",
   "metadata": {},
   "source": [
    "The first step is to randomly initialize values for the centroids of both clusters. Let's name centroids of clusters C1 and C2 as c1 and c2 and initialize them with the values of the first two data points \n",
    "i.e. (5, 3) and (10, 15)."
   ]
  },
  {
   "cell_type": "markdown",
   "metadata": {},
   "source": [
    "![Iteration_1_K_means_algo](datasets_n_images/images/Iteration_1_K_means_algo.png 'Iteration_1_K_means_algo')"
   ]
  },
  {
   "cell_type": "markdown",
   "metadata": {},
   "source": [
    "After assigning data points to the corresponding clusters, the next step is to calculate the new centroid values. These values are calculated by finding the means of the coordinates of the data points that belong to a particular cluster.\n",
    "\n",
    "For cluster C1, there is currently only one point i.e. (5,3), therefore the mean of the coordinates remain same and the new centroid value for c1 will also be (5,3).\n",
    "\n",
    "For C2, there are currently 9 data points. We name the coordinates of data points as x and y. The new value for x coordinate of centroid c2 can be calculated by determining the mean of x coordinates of all 9 points that belong to cluster C2 as given below:\n",
    "\n",
    "c2(x) = (10 + 15 + 24 + 30 + 85 + 71 + 60 + 55 + 80) / 9 = 47.77  \n",
    "The new value for y coordinate of centroid c2 can be calculated by determining the mean of all y coordinates of all 9 points that belong to cluster C2.\n",
    "\n",
    "c2(y) = (15 + 12 + 10 + 45 + 70 + 80 + 78 + 52 + 91) / 9 = 50.33  \n",
    "\n",
    "**The updated centroid value for c2 will now be {47.77, 50.33}."
   ]
  },
  {
   "cell_type": "markdown",
   "metadata": {},
   "source": [
    "For the next iteration, the new centroid values for c1 and c2 will be used and the whole process will be repeated. The iterations continue until the centroid values stop updating."
   ]
  },
  {
   "cell_type": "markdown",
   "metadata": {},
   "source": [
    "![Iteration_2_K_means_algo](datasets_n_images/images/Iteration_2_K_means_algo.png 'Iteration_2_K_means_algo')"
   ]
  },
  {
   "cell_type": "markdown",
   "metadata": {},
   "source": [
    "c1(x) = (5, 10, 15, 24) / 4 = 13.5  \n",
    "c1(y) = (3, 15, 12, 10) / 4 = 10.0 \n",
    "**Updated c1 to be (13.5, 10.0).\n",
    "\n",
    "c2(x) = (30 + 85 + 71 + 60 + 55 + 80) / 6 = 63.5  \n",
    "c2(y) = (45 + 70 + 80 + 78 + 52 +91) / 6 = 69.33  \n",
    "**Updated c2 to be (63.5, 69.33)."
   ]
  },
  {
   "cell_type": "markdown",
   "metadata": {},
   "source": [
    "![Iteration_3_K_means_algo](datasets_n_images/images/Iteration_3_K_means_algo.png 'Iteration_3_K_means_algo')"
   ]
  },
  {
   "cell_type": "markdown",
   "metadata": {},
   "source": [
    "c1(x) = (5, 10, 15, 24, 30) / 5 = 16.8  \n",
    "c1(y) = (3, 15, 12, 10, 45) / 5 = 17.0  \n",
    "**Updated c1 to be (16.8, 17.0).\n",
    "\n",
    "c2(x) = (85 + 71 + 60 + 55 + 80) / 5 = 70.2  \n",
    "c2(y) = (70 + 80 + 78 + 52 + 91) / 5 = 74.2  \n",
    "**Updated c2 to be (70.2, 74.2)."
   ]
  },
  {
   "cell_type": "markdown",
   "metadata": {},
   "source": [
    "![Iteration_4_K_means_algo](datasets_n_images/images/Iteration_4_K_means_algo.png 'Iteration_4_K_means_algo')"
   ]
  },
  {
   "cell_type": "markdown",
   "metadata": {},
   "source": [
    "At the end of fourth iteration, the updated values of C1 and C2 are same as they were at the end of the third iteration. This means that data cannot be clustered any further. c1 and c2 are the centroids for C1 and C2. To classify a new data point, the distance between the data point and the centroids of the clusters is calculated. Data point is assigned to the cluster whose centroid is closest to the data point."
   ]
  },
  {
   "cell_type": "markdown",
   "metadata": {},
   "source": [
    "K-means Clustering with Scikit-Learn\n",
    "-----------------------------------------------------\n",
    "Now that we know how the K-means clustering algorithm actually works, let's see how we can implement it with Scikit-Learn."
   ]
  },
  {
   "cell_type": "code",
   "execution_count": 19,
   "metadata": {
    "scrolled": true
   },
   "outputs": [
    {
     "data": {
      "image/png": "[encoded data removed]",
      "text/plain": [
       "<Figure size 432x288 with 1 Axes>"
      ]
     },
     "metadata": {
      "needs_background": "light"
     },
     "output_type": "display_data"
    }
   ],
   "source": [
    "#ANALYSE THIS>>>>>>>>>>>>>>>>\n",
    "\n",
    "\n",
    "\n",
    "\n",
    "import matplotlib.pyplot as plt  \n",
    "%matplotlib inline\n",
    "import numpy as np  \n",
    "from sklearn.cluster import KMeans  \n",
    "\n",
    "# prepare the data that we want to cluster\n",
    "X = np.array([[5,3],  \n",
    "     [10,15],\n",
    "     [15,12],\n",
    "     [24,10],\n",
    "     [30,45],\n",
    "     [85,70],\n",
    "     [71,80],\n",
    "     [60,78],\n",
    "     [55,52],\n",
    "     [80,91],])\n",
    "# Visualize the Data  .. type your code.. \n",
    "\n",
    "\n",
    "x=list(X[:,0])\n",
    "y=list(X[:,1])\n",
    "fig,ax=plt.subplots()\n",
    "ax.scatter(x,y)\n",
    "\n",
    "for i,txt in enumerate(list(x)):\n",
    "    ax.annotate(txt, (x[i],y[i]))\n",
    "\n",
    "\n",
    "\n",
    "\n",
    "plt.scatter(X[:,0],X[:,1], label='True position')\n",
    "plt.show()\n"
   ]
  },
  {
   "cell_type": "code",
   "execution_count": 2,
   "metadata": {},
   "outputs": [
    {
     "name": "stdout",
     "output_type": "stream",
     "text": [
      "[[70.2 74.2]\n",
      " [16.8 17. ]]\n"
     ]
    }
   ],
   "source": [
    "# Create Clusters. Assume with no. of clusters = 2\n",
    "kmeans = KMeans(n_clusters=2)  \n",
    "kmeans.fit(X)  \n",
    "\n",
    "# see what centroid values the algorithm generated for the final clusters \n",
    "# type your code here\n",
    "print(kmeans.cluster_centers_)\n"
   ]
  },
  {
   "cell_type": "markdown",
   "metadata": {},
   "source": [
    "Here the first row contains values for the coordinates of the first centroid i.e. (16.8 , 17) and the second row contains values for the coordinates of the other centroid i.e. (70.2, 74.2). You can see that these values are similar to what we calculated manually for centroids c1 and c2 in the last section."
   ]
  },
  {
   "cell_type": "code",
   "execution_count": 3,
   "metadata": {},
   "outputs": [
    {
     "name": "stdout",
     "output_type": "stream",
     "text": [
      "[1 1 1 1 1 0 0 0 0 0]\n"
     ]
    }
   ],
   "source": [
    "# To see the labels for the data point, -> use labels_ attribute\n",
    "# type your code here\n",
    "print(kmeans.labels_)\n",
    "\n",
    "\n",
    "# The output is a one dimensional array of 10 elements corresponding \n",
    "# to the clusters assigned to our 10 data points."
   ]
  },
  {
   "cell_type": "markdown",
   "metadata": {},
   "source": [
    "Here the first five points have been clustered together and the last five points have been clustered. Here 0 and 1 are merely used to represent cluster IDs and have no mathematical significance."
   ]
  },
  {
   "cell_type": "code",
   "execution_count": 4,
   "metadata": {},
   "outputs": [
    {
     "data": {
      "text/plain": [
       "<matplotlib.collections.PathCollection at 0x23f18c2fba8>"
      ]
     },
     "execution_count": 4,
     "metadata": {},
     "output_type": "execute_result"
    },
    {
     "data": {
      "image/png": "[encoded data removed]",
      "text/plain": [
       "<Figure size 432x288 with 1 Axes>"
      ]
     },
     "metadata": {
      "needs_background": "light"
     },
     "output_type": "display_data"
    }
   ],
   "source": [
    "# Let's plot the data points again on the graph and \n",
    "# visualize how the data has been clustered.\n",
    "\n",
    "plt.scatter(X[:,0],X[:,1], c=kmeans.labels_, cmap='summer')  "
   ]
  },
  {
   "cell_type": "code",
   "execution_count": 9,
   "metadata": {},
   "outputs": [
    {
     "data": {
      "image/png": "[encoded data removed]",
      "text/plain": [
       "<Figure size 432x288 with 1 Axes>"
      ]
     },
     "metadata": {
      "needs_background": "light"
     },
     "output_type": "display_data"
    }
   ],
   "source": [
    "# execute K-means algorithm with three clusters and see the output graph\n",
    "kmeans = KMeans(n_clusters=3)  \n",
    "# type your code here\n",
    "kmeans.fit(X)\n",
    "plt.scatter(X[:,0],X[:,1], c=kmeans.labels_, cmap='rainbow');\n",
    "#if semicolon is not provided  matplotlib.collections.PathCollection at 0x23f1b058a58>\n",
    "#kachra gets printed"
   ]
  },
  {
   "cell_type": "code",
   "execution_count": 12,
   "metadata": {},
   "outputs": [
    {
     "data": {
      "image/png": "[encoded data removed]",
      "text/plain": [
       "<Figure size 432x288 with 1 Axes>"
      ]
     },
     "metadata": {
      "needs_background": "light"
     },
     "output_type": "display_data"
    }
   ],
   "source": [
    "# let's plot the points along with the centroid coordinates \n",
    "# of each cluster to see how the centroid positions effects clustering.\n",
    "\n",
    "plt.scatter(X[:,0], X[:,1], c=kmeans.labels_, cmap='rainbow')  \n",
    "plt.scatter(kmeans.cluster_centers_[:,0] ,kmeans.cluster_centers_[:,1], color='yellow') \n",
    "plt.show()"
   ]
  },
  {
   "cell_type": "markdown",
   "metadata": {},
   "source": [
    "Recommended Reading \n",
    "-----------------------------------\n",
    "\n",
    "Clustering with Gaussian Mixture Models\n",
    "-----------------------------------------------------------\n",
    "\n",
    "Clustering is an essential part of any data analysis. Using an algorithm such as K-Means leads to hard assignments, meaning that each point is definitively assigned a cluster center. This leads to some interesting problems: what if the true clusters actually overlap? What about data that is more spread out; how do we assign clusters then?\n",
    "\n",
    "For further reading of concepts related to Expectation-Maximization Algorithm and GMM, please see this blog article.\n",
    "https://pythonmachinelearning.pro/clustering-with-gaussian-mixture-models/"
   ]
  }
 ],
 "metadata": {
  "kernelspec": {
   "display_name": "Python 3",
   "language": "python",
   "name": "python3"
  },
  "language_info": {
   "codemirror_mode": {
    "name": "ipython",
    "version": 3
   },
   "file_extension": ".py",
   "mimetype": "text/x-python",
   "name": "python",
   "nbconvert_exporter": "python",
   "pygments_lexer": "ipython3",
   "version": "3.7.3"
  },
  "toc": {
   "base_numbering": 1,
   "nav_menu": {},
   "number_sections": true,
   "sideBar": true,
   "skip_h1_title": false,
   "title_cell": "Table of Contents",
   "title_sidebar": "Contents",
   "toc_cell": false,
   "toc_position": {},
   "toc_section_display": true,
   "toc_window_display": false
  }
 },
 "nbformat": 4,
 "nbformat_minor": 2
}
