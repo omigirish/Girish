{
 "cells": [
  {
   "cell_type": "markdown",
   "metadata": {},
   "source": [
    "Python\n",
    "--\n",
    "Python is a general-purpose interpreted, interactive, object-oriented, and high-level programming language. It was created by Guido van Rossum during 1985- 1990. \n",
    "\n",
    "Language is not named after a snake,\n",
    "but after a comedy show \"Flying Circus\" which Monty Python was a fan of.\n",
    "\n",
    "Why to Learn Python?\n",
    "Python is a high-level, interpreted, interactive and object-oriented scripting language. Python is designed to be highly readable. It uses English keywords frequently where as other languages use punctuation, and it has fewer syntactical constructions than other languages.\n",
    "\n",
    "Following are important characteristics of Python Programming −\n",
    "\n",
    "It supports functional and structured programming methods as well as OOP.\n",
    "\n",
    "It can be used as a scripting language or can be compiled to byte-code for building large applications.\n",
    "\n",
    "It provides very high-level dynamic data types and supports dynamic type checking.\n",
    "\n",
    "It supports automatic garbage collection.\n",
    "\n",
    "It can be easily integrated with C, C++, COM, ActiveX, CORBA, and Java."
   ]
  },
  {
   "cell_type": "markdown",
   "metadata": {},
   "source": [
    "Applications of Python\n",
    "--\n",
    "Easy-to-learn − Python has few keywords, simple structure, and a clearly defined syntax. This allows the student to pick up the language quickly.\n",
    "\n",
    "Easy-to-read − Python code is more clearly defined and visible to the eyes.\n",
    "\n",
    "Easy-to-maintain − Python's source code is fairly easy-to-maintain.\n",
    "\n",
    "A broad standard library − Python's bulk of the library is very portable and cross-platform compatible on UNIX, Windows, and Macintosh.\n",
    "\n",
    "Interactive Mode − Python has support for an interactive mode which allows interactive testing and debugging of snippets of code.\n",
    "\n",
    "Portable − Python can run on a wide variety of hardware platforms and has the same interface on all platforms.\n",
    "\n",
    "Extendable − You can add low-level modules to the Python interpreter. These modules enable programmers to add to or customize their tools to be more efficient.\n",
    "\n",
    "Databases − Python provides interfaces to all major commercial databases.\n",
    "\n",
    "GUI Programming − Python supports GUI applications that can be created and ported to many system calls, libraries and windows systems, such as Windows MFC, Macintosh, and the X Window system of Unix.\n",
    "\n",
    "Scalable − Python provides a better structure and support for large programs than shell scripting."
   ]
  },
  {
   "cell_type": "markdown",
   "metadata": {},
   "source": [
    "Python Data Types\n",
    "--\n",
    "Variables can hold values of different data types. Python is a dynamically typed language hence we need not define the type of the variable while declaring it. The interpreter implicitly binds the value with its type.\n",
    "\n",
    "Python enables us to check the type of the variable used in the program. Python provides us the type() function which returns the type of the variable passed."
   ]
  },
  {
   "cell_type": "code",
   "execution_count": 151,
   "metadata": {},
   "outputs": [
    {
     "name": "stdout",
     "output_type": "stream",
     "text": [
      "<class 'int'>\n",
      "<class 'str'>\n",
      "<class 'float'>\n"
     ]
    }
   ],
   "source": [
    "a=10  \n",
    "b=\"Hi Python\"  \n",
    "c = 10.5  \n",
    "print(type(a))  \n",
    "print(type(b))   \n",
    "print(type(c))  "
   ]
  },
  {
   "cell_type": "markdown",
   "metadata": {},
   "source": [
    "Standard data types\n",
    "--\n",
    "A variable can hold different types of values. For example, a person's name must be stored as a string whereas its id must be stored as an integer.\n",
    "\n",
    "Python provides various standard data types that define the storage method on each of them. The data types defined in Python are given below.\n",
    "\n",
    "> Numbers\n",
    "\n",
    "> String\n",
    "\n",
    "> List\n",
    "\n",
    "> Tuple\n",
    "\n",
    "> Dictionary"
   ]
  },
  {
   "cell_type": "markdown",
   "metadata": {},
   "source": [
    "Numbers\n",
    "--\n",
    "Number stores numeric values. Python creates Number objects when a number is assigned to a variable. For example;\n",
    "\n",
    "a = 3 , b = 5  #a and b are number objects  \n",
    "Python supports 4 types of numeric data.\n",
    "\n",
    "int (signed integers like 10, 2, 29, etc.)\n",
    "long (long integers used for a higher range of values like 908090800L, -0x1929292L, etc.)\n",
    "float (float is used to store floating point numbers like 1.9, 9.902, 15.2, etc.)\n",
    "complex (complex numbers like 2.14j, 2.0 + 2.3j, etc.)\n",
    "Python allows us to use a lower-case L to be used with long integers. However, we must always use an upper-case L to avoid confusion.\n",
    "\n",
    "A complex number contains an ordered pair, i.e., x + iy where x and y denote the real and imaginary parts respectively)."
   ]
  },
  {
   "cell_type": "markdown",
   "metadata": {},
   "source": [
    "String\n",
    "--\n",
    "The string can be defined as the sequence of characters represented in the quotation marks. In python, we can use single, double, or triple quotes to define a string.\n",
    "\n",
    "The operator * is known as repetition operator as the operation \"Python \" *2 returns \"Python Python \""
   ]
  },
  {
   "cell_type": "code",
   "execution_count": 154,
   "metadata": {},
   "outputs": [
    {
     "name": "stdout",
     "output_type": "stream",
     "text": [
      "he\n",
      "o\n",
      "hello Pythonhello Python\n",
      "hello Python how are you\n"
     ]
    }
   ],
   "source": [
    "str1 = 'hello Python' #string str1  \n",
    "str2 = ' how are you' #string str2  \n",
    "print (str1[0:2]) #printing first two character using slice operator  \n",
    "print (str1[4]) #printing 4th character of the string  \n",
    "print (str1*2) #printing the string twice  \n",
    "print (str1 + str2) #printing the concatenation of str1 and str2  "
   ]
  },
  {
   "cell_type": "markdown",
   "metadata": {},
   "source": [
    "Python Keywords\n",
    "--\n",
    "Python Keywords are special reserved words which convey a special meaning to the compiler/interpreter. Each keyword have a special meaning and a specific operation. These keywords can't be used as variable. \n",
    "\n",
    "Following is the List of Python Keywords.\n",
    "\n",
    "True\n",
    "\n",
    "False\n",
    "\n",
    "None\n",
    "\n",
    "and\n",
    "\n",
    "as\n",
    "\n",
    "asset\n",
    "\n",
    "def\n",
    "\n",
    "class\n",
    "\n",
    "continue\n",
    "\n",
    "break\n",
    "\n",
    "else\n",
    "\n",
    "finally\n",
    "\n",
    "elif\n",
    "\n",
    "del\n",
    "\n",
    "except\n",
    "\n",
    "global\n",
    "\n",
    "for\n",
    "\n",
    "if\n",
    "\n",
    "from\n",
    "\n",
    "import\n",
    "\n",
    "raise\n",
    "\n",
    "try\n",
    "\n",
    "or\n",
    "\n",
    "return\n",
    "\n",
    "pass\n",
    "\n",
    "nonlocal\n",
    "\n",
    "in\n",
    "\n",
    "not\n",
    "\n",
    "is\n",
    "\n",
    "lambda"
   ]
  },
  {
   "cell_type": "markdown",
   "metadata": {},
   "source": [
    "Order of Operations:\n",
    "--\n",
    "PEMDAS"
   ]
  },
  {
   "cell_type": "raw",
   "metadata": {},
   "source": [
    "Comments:\n",
    "\n",
    "\n",
    "# for single line comments\n",
    "\n",
    "\"\"\"This is\n",
    "   for multi-line\n",
    "   comments\"\"\""
   ]
  },
  {
   "cell_type": "markdown",
   "metadata": {},
   "source": [
    "Functions:\n",
    "--\n",
    "Function is a named sequence of statements that performs a computation."
   ]
  },
  {
   "cell_type": "code",
   "execution_count": 155,
   "metadata": {},
   "outputs": [
    {
     "data": {
      "text/plain": [
       "32"
      ]
     },
     "execution_count": 155,
     "metadata": {},
     "output_type": "execute_result"
    }
   ],
   "source": [
    "# Type Conversion Functions\n",
    "int('32')"
   ]
  },
  {
   "cell_type": "code",
   "execution_count": 15,
   "metadata": {},
   "outputs": [
    {
     "data": {
      "text/plain": [
       "3"
      ]
     },
     "execution_count": 15,
     "metadata": {},
     "output_type": "execute_result"
    }
   ],
   "source": [
    "int(3.88888)"
   ]
  },
  {
   "cell_type": "code",
   "execution_count": 16,
   "metadata": {},
   "outputs": [
    {
     "data": {
      "text/plain": [
       "-2"
      ]
     },
     "execution_count": 16,
     "metadata": {},
     "output_type": "execute_result"
    }
   ],
   "source": [
    "int(-2.33)"
   ]
  },
  {
   "cell_type": "code",
   "execution_count": 156,
   "metadata": {},
   "outputs": [
    {
     "ename": "ValueError",
     "evalue": "invalid literal for int() with base 10: 'Hello'",
     "output_type": "error",
     "traceback": [
      "\u001b[1;31m---------------------------------------------------------------------------\u001b[0m",
      "\u001b[1;31mValueError\u001b[0m                                Traceback (most recent call last)",
      "\u001b[1;32m<ipython-input-156-e0b89fcdaf8c>\u001b[0m in \u001b[0;36m<module>\u001b[1;34m\u001b[0m\n\u001b[1;32m----> 1\u001b[1;33m \u001b[0mint\u001b[0m\u001b[1;33m(\u001b[0m\u001b[1;34m'Hello'\u001b[0m\u001b[1;33m)\u001b[0m \u001b[1;31m# Value error\u001b[0m\u001b[1;33m\u001b[0m\u001b[1;33m\u001b[0m\u001b[0m\n\u001b[0m",
      "\u001b[1;31mValueError\u001b[0m: invalid literal for int() with base 10: 'Hello'"
     ]
    }
   ],
   "source": [
    "int('Hello') # Value error"
   ]
  },
  {
   "cell_type": "code",
   "execution_count": 17,
   "metadata": {},
   "outputs": [
    {
     "data": {
      "text/plain": [
       "32.0"
      ]
     },
     "execution_count": 17,
     "metadata": {},
     "output_type": "execute_result"
    }
   ],
   "source": [
    "float(32)"
   ]
  },
  {
   "cell_type": "code",
   "execution_count": 18,
   "metadata": {},
   "outputs": [
    {
     "data": {
      "text/plain": [
       "12.7576"
      ]
     },
     "execution_count": 18,
     "metadata": {},
     "output_type": "execute_result"
    }
   ],
   "source": [
    "float('12.7576')"
   ]
  },
  {
   "cell_type": "code",
   "execution_count": 19,
   "metadata": {},
   "outputs": [
    {
     "data": {
      "text/plain": [
       "'32'"
      ]
     },
     "execution_count": 19,
     "metadata": {},
     "output_type": "execute_result"
    }
   ],
   "source": [
    "str(32)"
   ]
  },
  {
   "cell_type": "markdown",
   "metadata": {},
   "source": [
    "Math Functions:\n",
    "--\n",
    " Import module 'math' for this"
   ]
  },
  {
   "cell_type": "code",
   "execution_count": 23,
   "metadata": {},
   "outputs": [
    {
     "name": "stdout",
     "output_type": "stream",
     "text": [
      "<module 'math' (built-in)>\n"
     ]
    }
   ],
   "source": [
    "import math\n",
    "print(math)"
   ]
  },
  {
   "cell_type": "code",
   "execution_count": 25,
   "metadata": {},
   "outputs": [
    {
     "name": "stdout",
     "output_type": "stream",
     "text": [
      "1.7879933272011157\n"
     ]
    }
   ],
   "source": [
    "# It is used with dot notations\n",
    "a = 2*math.sin(90)\n",
    "print(a)"
   ]
  },
  {
   "cell_type": "code",
   "execution_count": 35,
   "metadata": {},
   "outputs": [
    {
     "name": "stdout",
     "output_type": "stream",
     "text": [
      "-3.990400824416484\n"
     ]
    }
   ],
   "source": [
    "import math as m\n",
    "a = 2*m.tan(90)\n",
    "print(a)"
   ]
  },
  {
   "cell_type": "code",
   "execution_count": 36,
   "metadata": {},
   "outputs": [
    {
     "name": "stdout",
     "output_type": "stream",
     "text": [
      "2.0\n",
      "6\n",
      "5\n",
      "20.085536923187668\n",
      "1.0986122886681098\n",
      "0.3010299956639812\n",
      "8.0\n"
     ]
    }
   ],
   "source": [
    "print(m.sqrt(4))\n",
    "print(m.ceil(5.1))\n",
    "print(m.floor(5.1))\n",
    "print(m.exp(3.0))\n",
    "print(m.log(3))\n",
    "print(m.log10(2))\n",
    "print(m.pow(2,3))"
   ]
  },
  {
   "cell_type": "code",
   "execution_count": 27,
   "metadata": {},
   "outputs": [
    {
     "data": {
      "text/plain": [
       "12.0"
      ]
     },
     "execution_count": 27,
     "metadata": {},
     "output_type": "execute_result"
    }
   ],
   "source": [
    "m.sqrt(144)"
   ]
  },
  {
   "cell_type": "code",
   "execution_count": 36,
   "metadata": {},
   "outputs": [
    {
     "data": {
      "text/plain": [
       "10.0"
      ]
     },
     "execution_count": 36,
     "metadata": {},
     "output_type": "execute_result"
    }
   ],
   "source": [
    "from math import *\n",
    "math.sqrt(100)"
   ]
  },
  {
   "cell_type": "markdown",
   "metadata": {},
   "source": [
    "User Defined Functions:\n",
    "--\n",
    "\n",
    "'def' keyword is used for this"
   ]
  },
  {
   "cell_type": "code",
   "execution_count": 29,
   "metadata": {},
   "outputs": [
    {
     "name": "stdout",
     "output_type": "stream",
     "text": [
      "Hi\n",
      "Hello TSEC\n"
     ]
    }
   ],
   "source": [
    "def abc():\n",
    "    print(\"Hi\")\n",
    "    print(\"Hello TSEC\")\n",
    "\n",
    "abc()"
   ]
  },
  {
   "cell_type": "code",
   "execution_count": 30,
   "metadata": {},
   "outputs": [
    {
     "name": "stdout",
     "output_type": "stream",
     "text": [
      "Hi\n",
      "Hello TSEC\n",
      "In abc\n"
     ]
    }
   ],
   "source": [
    "def xyz():\n",
    "    abc()\n",
    "    print(\"In abc\")\n",
    "\n",
    "xyz()"
   ]
  },
  {
   "cell_type": "markdown",
   "metadata": {},
   "source": [
    "Parameter passing and Arguments:\n",
    "--\n"
   ]
  },
  {
   "cell_type": "code",
   "execution_count": 38,
   "metadata": {},
   "outputs": [
    {
     "name": "stdout",
     "output_type": "stream",
     "text": [
      "233\n",
      "33.122\n",
      "999\n",
      "TSEC\n",
      "3.141592653589793\n"
     ]
    }
   ],
   "source": [
    "def mno(a):\n",
    "    print(a)\n",
    "\n",
    "mno(233)\n",
    "mno(33.122)\n",
    "mno('999')\n",
    "mno('TSEC')\n",
    "mno(math.pi)"
   ]
  },
  {
   "cell_type": "code",
   "execution_count": 37,
   "metadata": {},
   "outputs": [
    {
     "name": "stdout",
     "output_type": "stream",
     "text": [
      "25\n"
     ]
    }
   ],
   "source": [
    "def mno(a):\n",
    "    a = a**2\n",
    "    return a\n",
    "    \n",
    "\n",
    "x = mno(5)\n",
    "print(x)"
   ]
  },
  {
   "cell_type": "code",
   "execution_count": 39,
   "metadata": {},
   "outputs": [
    {
     "name": "stdout",
     "output_type": "stream",
     "text": [
      "2.3333333333333335\n",
      "1\n"
     ]
    }
   ],
   "source": [
    "# Modulus Operator\n",
    "print(7/3)\n",
    "print(7%3)"
   ]
  },
  {
   "cell_type": "code",
   "execution_count": 44,
   "metadata": {},
   "outputs": [
    {
     "name": "stdout",
     "output_type": "stream",
     "text": [
      "True\n",
      "5==6\n",
      "True\n",
      "False\n",
      "<class 'bool'>\n"
     ]
    }
   ],
   "source": [
    "# Boolean Operator\n",
    "print(5==5)\n",
    "print('5==6')\n",
    "print('Hi'=='Hi')\n",
    "print('hi'=='Hi')\n",
    "print(type(False))"
   ]
  },
  {
   "cell_type": "code",
   "execution_count": 46,
   "metadata": {},
   "outputs": [
    {
     "name": "stdout",
     "output_type": "stream",
     "text": [
      "False\n"
     ]
    }
   ],
   "source": [
    "# Relational Operators\n",
    "# > < >= <= == !=\n",
    "a = 5>6\n",
    "print(a)"
   ]
  },
  {
   "cell_type": "code",
   "execution_count": 48,
   "metadata": {},
   "outputs": [
    {
     "name": "stdout",
     "output_type": "stream",
     "text": [
      "True\n"
     ]
    }
   ],
   "source": [
    "# Logical Operators\n",
    "# and, or\n",
    "\n",
    "print(17 and True) "
   ]
  },
  {
   "cell_type": "markdown",
   "metadata": {},
   "source": [
    "Conditional execution\n",
    "--\n"
   ]
  },
  {
   "cell_type": "code",
   "execution_count": 1,
   "metadata": {},
   "outputs": [
    {
     "name": "stdout",
     "output_type": "stream",
     "text": [
      "40 is greater that 35\n"
     ]
    }
   ],
   "source": [
    "# if statement\n",
    "x = 40\n",
    "if x>35:\n",
    "    print(x,\"is greater that 35\")\n",
    "else:\n",
    "    print(x,\"is less than or equal to 35\")"
   ]
  },
  {
   "cell_type": "code",
   "execution_count": 3,
   "metadata": {},
   "outputs": [
    {
     "name": "stdout",
     "output_type": "stream",
     "text": [
      "35 is equal to 35\n"
     ]
    }
   ],
   "source": [
    "# Chained Conditionals\n",
    "x = 35\n",
    "if x>35:\n",
    "    print(x,\"is greater that 35\")\n",
    "elif x<35:\n",
    "    print(x,\"is less than 35\")\n",
    "else:\n",
    "    print(x,\"is equal to 35\")"
   ]
  },
  {
   "cell_type": "code",
   "execution_count": 5,
   "metadata": {},
   "outputs": [
    {
     "name": "stdout",
     "output_type": "stream",
     "text": [
      "35 is equal to 35\n"
     ]
    }
   ],
   "source": [
    "# Nested Conditionals\n",
    "x = 35\n",
    "if x>35:\n",
    "    print(x,\"is greater that 35\")\n",
    "else:\n",
    "    if x<35:\n",
    "        print(x,\"is less than 35\")\n",
    "    else:\n",
    "        print(x,\"is equal to 35\")"
   ]
  },
  {
   "cell_type": "code",
   "execution_count": 7,
   "metadata": {},
   "outputs": [
    {
     "name": "stdout",
     "output_type": "stream",
     "text": [
      "5\n",
      "4\n",
      "3\n",
      "2\n",
      "1\n",
      "Blast Off!!!!!\n"
     ]
    }
   ],
   "source": [
    "# Recursion\n",
    "# A function calling itself\n",
    "def countdown(n):\n",
    "    if n<=0:\n",
    "        print(\"Blast Off!!!!!\")\n",
    "    else:\n",
    "        print(n)\n",
    "        countdown(n-1)\n",
    "\n",
    "countdown(5)"
   ]
  },
  {
   "cell_type": "code",
   "execution_count": 8,
   "metadata": {},
   "outputs": [
    {
     "name": "stdout",
     "output_type": "stream",
     "text": [
      "Hello Darshan\n",
      "Hello Darshan\n",
      "\n",
      "Input recorded.\n"
     ]
    }
   ],
   "source": [
    "# Taking input in Python from the user\n",
    "x=input()\n",
    "print(x)\n",
    "print(\"\\nInput recorded.\")"
   ]
  },
  {
   "cell_type": "code",
   "execution_count": 48,
   "metadata": {},
   "outputs": [
    {
     "name": "stdout",
     "output_type": "stream",
     "text": [
      "Enter two numbers:\n",
      "33\n",
      "1\n",
      "Addition is:  331\n"
     ]
    }
   ],
   "source": [
    "print(\"Enter two numbers:\")\n",
    "x=input()\n",
    "y=input()\n",
    "z=x+y\n",
    "print(\"Addition is: \",z)"
   ]
  },
  {
   "cell_type": "code",
   "execution_count": 49,
   "metadata": {},
   "outputs": [
    {
     "name": "stdout",
     "output_type": "stream",
     "text": [
      "Enter two numbers:\n",
      "33\n",
      "1\n",
      "Addition is:  34\n"
     ]
    }
   ],
   "source": [
    "print(\"Enter two numbers:\")\n",
    "x=int(input())\n",
    "y=int(input())\n",
    "z=x+y\n",
    "print(\"Addition is: \",z)"
   ]
  },
  {
   "cell_type": "code",
   "execution_count": 9,
   "metadata": {},
   "outputs": [
    {
     "data": {
      "text/plain": [
       "3"
      ]
     },
     "execution_count": 9,
     "metadata": {},
     "output_type": "execute_result"
    }
   ],
   "source": [
    "1+2"
   ]
  },
  {
   "cell_type": "raw",
   "metadata": {},
   "source": [
    "Arithmetic Operators\n",
    "\n",
    "+ \n",
    "- \n",
    "* \n",
    "/ \n",
    "%\n",
    "// -Floor Division 4//6 = 0\n",
    "** Exponentiation 2**3 = 8"
   ]
  },
  {
   "cell_type": "code",
   "execution_count": 10,
   "metadata": {},
   "outputs": [
    {
     "data": {
      "text/plain": [
       "True"
      ]
     },
     "execution_count": 10,
     "metadata": {},
     "output_type": "execute_result"
    }
   ],
   "source": [
    "# Membership Operators\n",
    "s = [1,2,3,4]\n",
    "1 in s"
   ]
  },
  {
   "cell_type": "markdown",
   "metadata": {},
   "source": [
    "Looping Statements:\n",
    "    --"
   ]
  },
  {
   "cell_type": "code",
   "execution_count": 11,
   "metadata": {},
   "outputs": [
    {
     "name": "stdout",
     "output_type": "stream",
     "text": [
      "1\n",
      "2\n",
      "3\n",
      "4\n",
      "5\n"
     ]
    }
   ],
   "source": [
    "n = [1,2,3,4,5]\n",
    "for i in n:\n",
    "    print(i)"
   ]
  },
  {
   "cell_type": "code",
   "execution_count": 12,
   "metadata": {},
   "outputs": [
    {
     "name": "stdout",
     "output_type": "stream",
     "text": [
      "ABC\n",
      "XYZ\n"
     ]
    }
   ],
   "source": [
    "names = ['ABC', 'XYZ']\n",
    "for i in names:\n",
    "    print(i)"
   ]
  },
  {
   "cell_type": "code",
   "execution_count": 50,
   "metadata": {},
   "outputs": [
    {
     "name": "stdout",
     "output_type": "stream",
     "text": [
      "M\n",
      "a\n",
      "c\n",
      "h\n",
      "i\n",
      "n\n",
      "e\n",
      " \n",
      "L\n",
      "e\n",
      "a\n",
      "r\n",
      "n\n",
      "i\n",
      "n\n",
      "g\n"
     ]
    }
   ],
   "source": [
    "s = \"Machine Learning\"\n",
    "for i in s:\n",
    "    print(i)"
   ]
  },
  {
   "cell_type": "markdown",
   "metadata": {},
   "source": [
    "range function:\n",
    "--\n",
    "\n",
    ">range(5): It goes from 0 to 4 to generate a sequence of numbers\n",
    "\n",
    ">range(start, stop, stepsize): Default stepsize is 1"
   ]
  },
  {
   "cell_type": "code",
   "execution_count": 16,
   "metadata": {},
   "outputs": [
    {
     "name": "stdout",
     "output_type": "stream",
     "text": [
      "Sum=  10\n"
     ]
    }
   ],
   "source": [
    "# Program to display sum of numbers\n",
    "sum = 0\n",
    "for i in range(5):\n",
    "    sum = sum + i\n",
    "print(\"Sum= \",sum)"
   ]
  },
  {
   "cell_type": "code",
   "execution_count": 17,
   "metadata": {},
   "outputs": [
    {
     "name": "stdout",
     "output_type": "stream",
     "text": [
      "2\n",
      "4\n",
      "6\n",
      "8\n",
      "10\n",
      "12\n",
      "14\n",
      "16\n",
      "18\n"
     ]
    }
   ],
   "source": [
    "# Program to display even numbers in given range\n",
    "for i in range(2, 20, 2):\n",
    "    print(i)"
   ]
  },
  {
   "cell_type": "code",
   "execution_count": 19,
   "metadata": {},
   "outputs": [
    {
     "name": "stdout",
     "output_type": "stream",
     "text": [
      "1\n",
      "2\n",
      "3\n",
      "4\n",
      "5\n"
     ]
    }
   ],
   "source": [
    "# while\n",
    "i=1\n",
    "while i<=5:\n",
    "    print(i)\n",
    "    i = i+1 "
   ]
  },
  {
   "cell_type": "code",
   "execution_count": 53,
   "metadata": {},
   "outputs": [
    {
     "name": "stdout",
     "output_type": "stream",
     "text": [
      "M\n",
      "a\n",
      "c\n",
      "h\n",
      "i\n",
      "n\n",
      "e\n",
      " \n",
      "L\n",
      "e\n",
      "a\n",
      "r\n",
      "n\n",
      "i\n",
      "n\n",
      "g\n"
     ]
    }
   ],
   "source": [
    "s = \"Machine Learning\"\n",
    "i=0\n",
    "while i<len(s):\n",
    "    d =s[i]\n",
    "    print(d)\n",
    "    i=i+1"
   ]
  },
  {
   "cell_type": "code",
   "execution_count": 29,
   "metadata": {},
   "outputs": [
    {
     "name": "stdout",
     "output_type": "stream",
     "text": [
      "\n",
      "\n",
      "* \n",
      "\n",
      "* * \n",
      "\n",
      "* * * \n",
      "\n",
      "* * * * \n",
      "\n"
     ]
    }
   ],
   "source": [
    "# Nested for\n",
    "for i in range(5):\n",
    "    for j in range(i):\n",
    "        print(\"*\",end = \" \")\n",
    "    print(\"\\n\")"
   ]
  },
  {
   "cell_type": "code",
   "execution_count": 32,
   "metadata": {},
   "outputs": [
    {
     "name": "stdout",
     "output_type": "stream",
     "text": [
      "1\n",
      "2\n",
      "3\n"
     ]
    }
   ],
   "source": [
    "# break\n",
    "n = (1,2,3,4,5)\n",
    "for i in n:\n",
    "    if(i==4):\n",
    "        break\n",
    "    print(i)"
   ]
  },
  {
   "cell_type": "code",
   "execution_count": 33,
   "metadata": {},
   "outputs": [
    {
     "name": "stdout",
     "output_type": "stream",
     "text": [
      "1\n",
      "2\n",
      "4\n",
      "5\n"
     ]
    }
   ],
   "source": [
    "# continue\n",
    "n = (1,2,3,4,5)\n",
    "for i in n:\n",
    "    if(i==3):\n",
    "        continue\n",
    "    print(i)"
   ]
  },
  {
   "cell_type": "code",
   "execution_count": 37,
   "metadata": {},
   "outputs": [
    {
     "name": "stdout",
     "output_type": "stream",
     "text": [
      "11.0\n",
      "2.0\n"
     ]
    }
   ],
   "source": [
    "# Program to fing average of 3 numbers\n",
    "def avg(n1, n2, n3):\n",
    "    sum = n1+n2+n3\n",
    "    print(sum/3)\n",
    "avg(10,11,12)\n",
    "avg(1,2,3)"
   ]
  },
  {
   "cell_type": "code",
   "execution_count": 44,
   "metadata": {},
   "outputs": [
    {
     "name": "stdout",
     "output_type": "stream",
     "text": [
      "1.0\n",
      "0.6666666666666666\n",
      "1.0\n",
      "1.6666666666666667\n"
     ]
    }
   ],
   "source": [
    "def avg(n1=2, n2=1, n3=0):\n",
    "    sum = n1+n2+n3\n",
    "    print(sum/3)\n",
    "avg()\n",
    "avg(1)\n",
    "avg(1,2)\n",
    "avg(1,4)"
   ]
  },
  {
   "cell_type": "code",
   "execution_count": 59,
   "metadata": {},
   "outputs": [
    {
     "name": "stdout",
     "output_type": "stream",
     "text": [
      "achi\n",
      "Machi\n",
      "ne Learning\n",
      "gninraeL enihcaM\n",
      "Learn\n"
     ]
    }
   ],
   "source": [
    "# String Slicing\n",
    "s = \"Machine Learning\"\n",
    "print(s[1:5])\n",
    "print(s[:5])\n",
    "print(s[5:])\n",
    "print(s[::-1])\n",
    "print(s[-8:-3])"
   ]
  },
  {
   "cell_type": "code",
   "execution_count": 80,
   "metadata": {},
   "outputs": [
    {
     "name": "stdout",
     "output_type": "stream",
     "text": [
      "Hello WorldMachine Learning\n",
      "DarshanDarshanDarshan\n",
      "mACHINE lEARNING\n",
      "hello world\n",
      "DARSHAN\n",
      "s\n",
      "D\n",
      "False\n",
      "An apple a day keeps the doctor away \n",
      "37\n",
      "en epple e dey keeps the doctor ewey \n"
     ]
    }
   ],
   "source": [
    "# Program to demonstarte various string functions\n",
    "s1 = \"Hello World\"\n",
    "s2 = \"Machine Learning\"\n",
    "s3 = \"Darshan\"\n",
    "print(s1+s2)\n",
    "print(s3*3)\n",
    "print(s2.swapcase())\n",
    "print(s1.lower())\n",
    "print(s3.upper())\n",
    "print(max(s3))\n",
    "print(min(s3))\n",
    "print(s1.isdigit())\n",
    "s4=\"an apple a day keeps the doctor away \"\n",
    "print(s4.capitalize())\n",
    "print(len(s4))\n",
    "print(s4.replace('a','e'))"
   ]
  },
  {
   "cell_type": "code",
   "execution_count": 82,
   "metadata": {},
   "outputs": [
    {
     "name": "stdout",
     "output_type": "stream",
     "text": [
      "True\n",
      "False\n"
     ]
    }
   ],
   "source": [
    "# 'in' and 'not in' operator\n",
    "s = \"Machine\"\n",
    "print('a' in s)\n",
    "print('a' not in s)"
   ]
  },
  {
   "cell_type": "markdown",
   "metadata": {},
   "source": [
    "Lists\n",
    "--\n",
    "> It is similar to arrays.\n",
    "\n",
    "    > It can contain any type of variable of distinct type"
   ]
  },
  {
   "cell_type": "code",
   "execution_count": 83,
   "metadata": {},
   "outputs": [
    {
     "name": "stdout",
     "output_type": "stream",
     "text": [
      "[]\n"
     ]
    }
   ],
   "source": [
    "# empty list\n",
    "st = []\n",
    "print(st)"
   ]
  },
  {
   "cell_type": "code",
   "execution_count": 84,
   "metadata": {},
   "outputs": [
    {
     "name": "stdout",
     "output_type": "stream",
     "text": [
      "[1, 2, 3, 4]\n"
     ]
    }
   ],
   "source": [
    "st = [1,2,3,4]\n",
    "print(st)"
   ]
  },
  {
   "cell_type": "code",
   "execution_count": 86,
   "metadata": {},
   "outputs": [
    {
     "name": "stdout",
     "output_type": "stream",
     "text": [
      "[1, 22.33, 'Machine']\n",
      "<class 'list'>\n"
     ]
    }
   ],
   "source": [
    "st = [1,22.33,\"Machine\"]\n",
    "print(st)\n",
    "print(type(st))"
   ]
  },
  {
   "cell_type": "code",
   "execution_count": 90,
   "metadata": {},
   "outputs": [
    {
     "name": "stdout",
     "output_type": "stream",
     "text": [
      "A\n",
      "D\n",
      "E\n",
      "True\n"
     ]
    }
   ],
   "source": [
    "st = ['A','B','C','D','E']\n",
    "print(st[0])\n",
    "print(st[3])\n",
    "print(st[-1])\n",
    "print('A' in st)"
   ]
  },
  {
   "cell_type": "raw",
   "metadata": {},
   "source": [
    "Lists are mutable. It means we can change an item in a list by accessing it as a part of the assignment statement."
   ]
  },
  {
   "cell_type": "code",
   "execution_count": 92,
   "metadata": {},
   "outputs": [
    {
     "name": "stdout",
     "output_type": "stream",
     "text": [
      "['A', 'B', 'C', 'D', 'E']\n",
      "['X', 'B', 'C', 'D', 'E']\n"
     ]
    }
   ],
   "source": [
    "st = ['A','B','C','D','E']\n",
    "print(st)\n",
    "st[0] = 'X'\n",
    "print(st)"
   ]
  },
  {
   "cell_type": "code",
   "execution_count": 157,
   "metadata": {},
   "outputs": [
    {
     "name": "stdout",
     "output_type": "stream",
     "text": [
      "[1, 2, [100, 200, 300], 3, 4, 5]\n",
      "[100, 200, 300]\n",
      "300\n"
     ]
    }
   ],
   "source": [
    "# List of lists\n",
    "l=[1,2,[100,200,300],3,4,5]\n",
    "print(l)\n",
    "print(l[2])\n",
    "print(l[2][2])"
   ]
  },
  {
   "cell_type": "code",
   "execution_count": 159,
   "metadata": {},
   "outputs": [
    {
     "name": "stdout",
     "output_type": "stream",
     "text": [
      "[1, 2, 3, 4, 5]\n",
      "[1, 3, 4, 5]\n"
     ]
    }
   ],
   "source": [
    "l=[1,2,3,4,5]\n",
    "print(l)\n",
    "l.remove(2)\n",
    "print(l)"
   ]
  },
  {
   "cell_type": "code",
   "execution_count": 160,
   "metadata": {},
   "outputs": [
    {
     "ename": "ValueError",
     "evalue": "list.remove(x): x not in list",
     "output_type": "error",
     "traceback": [
      "\u001b[1;31m---------------------------------------------------------------------------\u001b[0m",
      "\u001b[1;31mValueError\u001b[0m                                Traceback (most recent call last)",
      "\u001b[1;32m<ipython-input-160-d86ed9d35e0f>\u001b[0m in \u001b[0;36m<module>\u001b[1;34m\u001b[0m\n\u001b[0;32m      1\u001b[0m \u001b[0ml\u001b[0m\u001b[1;33m=\u001b[0m\u001b[1;33m[\u001b[0m\u001b[1;36m1\u001b[0m\u001b[1;33m,\u001b[0m\u001b[1;36m2\u001b[0m\u001b[1;33m,\u001b[0m\u001b[1;36m3\u001b[0m\u001b[1;33m,\u001b[0m\u001b[1;36m4\u001b[0m\u001b[1;33m,\u001b[0m\u001b[1;36m5\u001b[0m\u001b[1;33m]\u001b[0m\u001b[1;33m\u001b[0m\u001b[1;33m\u001b[0m\u001b[0m\n\u001b[1;32m----> 2\u001b[1;33m \u001b[0ml\u001b[0m\u001b[1;33m.\u001b[0m\u001b[0mremove\u001b[0m\u001b[1;33m(\u001b[0m\u001b[1;36m22\u001b[0m\u001b[1;33m)\u001b[0m\u001b[1;33m\u001b[0m\u001b[1;33m\u001b[0m\u001b[0m\n\u001b[0m\u001b[0;32m      3\u001b[0m \u001b[0mprint\u001b[0m\u001b[1;33m(\u001b[0m\u001b[0ml\u001b[0m\u001b[1;33m)\u001b[0m\u001b[1;33m\u001b[0m\u001b[1;33m\u001b[0m\u001b[0m\n",
      "\u001b[1;31mValueError\u001b[0m: list.remove(x): x not in list"
     ]
    }
   ],
   "source": [
    "l=[1,2,3,4,5]\n",
    "l.remove(22)\n",
    "print(l)"
   ]
  },
  {
   "cell_type": "code",
   "execution_count": 161,
   "metadata": {},
   "outputs": [
    {
     "name": "stdout",
     "output_type": "stream",
     "text": [
      "[1, 2, 3, 4, 5]\n",
      "[1, 3, 4, 5]\n"
     ]
    }
   ],
   "source": [
    "l=[1,2,3,4,5]\n",
    "print(l)\n",
    "del l[1]\n",
    "print(l)"
   ]
  },
  {
   "cell_type": "code",
   "execution_count": 101,
   "metadata": {},
   "outputs": [
    {
     "data": {
      "text/plain": [
       "[1, 2, 3, 11, 12, 13]"
      ]
     },
     "execution_count": 101,
     "metadata": {},
     "output_type": "execute_result"
    }
   ],
   "source": [
    "# Concatenation\n",
    "l1=[1,2,3]\n",
    "l2=[11,12,13]\n",
    "l1+l2"
   ]
  },
  {
   "cell_type": "code",
   "execution_count": 110,
   "metadata": {},
   "outputs": [
    {
     "name": "stdout",
     "output_type": "stream",
     "text": [
      "[3, 2, 1, 5, 4]\n",
      "[3, 2, 1, 5, 4]\n",
      "1\n",
      "5\n",
      "[3, 2, 999, 1, 5, 4]\n",
      "[3, 2, 999, 1, 5, 4, 777]\n",
      "[1, 2, 3, 4, 5, 777, 999]\n",
      "[999, 777, 5, 4, 3, 2, 1]\n",
      "[]\n"
     ]
    }
   ],
   "source": [
    "l1=[3,2,1,5,4]\n",
    "print(l1)\n",
    "print(l1[:])\n",
    "print(min(l1))\n",
    "print(max(l1))\n",
    "l1.insert(2,999)\n",
    "print(l1)\n",
    "l1.append(777)\n",
    "print(l1)\n",
    "l1.sort()\n",
    "print(l1)\n",
    "l1.reverse()\n",
    "print(l1)\n",
    "l1.clear()\n",
    "print(l1)"
   ]
  },
  {
   "cell_type": "markdown",
   "metadata": {},
   "source": [
    "Tuples\n",
    "--\n",
    "> Tuple is similar to a list. However, in tuples, we cannot change the elements after assignment i.e they are immutable.\n",
    "\n",
    "> Each element or value inside the tuple is called an item."
   ]
  },
  {
   "cell_type": "code",
   "execution_count": 111,
   "metadata": {},
   "outputs": [
    {
     "name": "stdout",
     "output_type": "stream",
     "text": [
      "('y', 'v', 'angle')\n",
      "<class 'tuple'>\n"
     ]
    }
   ],
   "source": [
    "s = ('y','v','angle')\n",
    "print(s)\n",
    "print(type(s))"
   ]
  },
  {
   "cell_type": "code",
   "execution_count": 112,
   "metadata": {},
   "outputs": [
    {
     "name": "stdout",
     "output_type": "stream",
     "text": [
      "()\n"
     ]
    }
   ],
   "source": [
    "# empty tuple\n",
    "t = ()\n",
    "print(t)"
   ]
  },
  {
   "cell_type": "code",
   "execution_count": 121,
   "metadata": {},
   "outputs": [
    {
     "name": "stdout",
     "output_type": "stream",
     "text": [
      "1\n",
      "<class 'int'>\n"
     ]
    }
   ],
   "source": [
    "t = (1)\n",
    "print(t)\n",
    "print(type(t))"
   ]
  },
  {
   "cell_type": "code",
   "execution_count": 122,
   "metadata": {},
   "outputs": [
    {
     "name": "stdout",
     "output_type": "stream",
     "text": [
      "(1,)\n",
      "<class 'tuple'>\n"
     ]
    }
   ],
   "source": [
    "# Single value tuple must use a comma\n",
    "t = (1,)"
   ]
  },
  {
   "cell_type": "code",
   "execution_count": 124,
   "metadata": {},
   "outputs": [
    {
     "name": "stdout",
     "output_type": "stream",
     "text": [
      "(2, 33.4443)\n",
      "(2, 33.4443, 5, 6)\n",
      "(1, 2, 33.4443, 5)\n",
      "(6, 5, 33.4443, 2, 1)\n",
      "(1, 2, 33.4443, 5)\n"
     ]
    }
   ],
   "source": [
    "t = (1,2,33.4443,5,6)\n",
    "print(t[1:3])\n",
    "print(t[1:])\n",
    "print(t[:4])\n",
    "print(t[::-1])\n",
    "print(t[-5:-1])"
   ]
  },
  {
   "cell_type": "code",
   "execution_count": 125,
   "metadata": {},
   "outputs": [
    {
     "data": {
      "text/plain": [
       "(1, 2, 3, 4, 5, 6)"
      ]
     },
     "execution_count": 125,
     "metadata": {},
     "output_type": "execute_result"
    }
   ],
   "source": [
    "t1 = (1,2,3)\n",
    "t2 = (4,5,6)\n",
    "t1+t2"
   ]
  },
  {
   "cell_type": "code",
   "execution_count": 126,
   "metadata": {},
   "outputs": [
    {
     "data": {
      "text/plain": [
       "(1, 2, 3, 1, 2, 3, 1, 2, 3)"
      ]
     },
     "execution_count": 126,
     "metadata": {},
     "output_type": "execute_result"
    }
   ],
   "source": [
    "t1*3"
   ]
  },
  {
   "cell_type": "code",
   "execution_count": 127,
   "metadata": {},
   "outputs": [
    {
     "data": {
      "text/plain": [
       "True"
      ]
     },
     "execution_count": 127,
     "metadata": {},
     "output_type": "execute_result"
    }
   ],
   "source": [
    "3 in t1"
   ]
  },
  {
   "cell_type": "code",
   "execution_count": 128,
   "metadata": {},
   "outputs": [
    {
     "data": {
      "text/plain": [
       "3"
      ]
     },
     "execution_count": 128,
     "metadata": {},
     "output_type": "execute_result"
    }
   ],
   "source": [
    "len(t1)"
   ]
  },
  {
   "cell_type": "code",
   "execution_count": 129,
   "metadata": {},
   "outputs": [
    {
     "data": {
      "text/plain": [
       "3"
      ]
     },
     "execution_count": 129,
     "metadata": {},
     "output_type": "execute_result"
    }
   ],
   "source": [
    "max(t1)"
   ]
  },
  {
   "cell_type": "markdown",
   "metadata": {},
   "source": [
    "Dictionary/Associative Array:\n",
    "--\n",
    "\n",
    "> Python provides a dictionary structure to deal with unordered set of key value pairs.\n",
    "\n",
    "> The key and value pair is called as item.\n",
    "\n",
    "> The values in the dictionary are mutable i.e can be changed\n",
    "\n",
    "> The keys in the dictionary are immutable i.e cannot be changed\n",
    "\n",
    "> It is also called as an Associative array because the key works as an Index and they are decided by the user."
   ]
  },
  {
   "cell_type": "code",
   "execution_count": 130,
   "metadata": {},
   "outputs": [
    {
     "name": "stdout",
     "output_type": "stream",
     "text": [
      "{1: 'COMP', 2: 'IT', 3: 'EXTC'}\n"
     ]
    }
   ],
   "source": [
    "d = {1:\"COMP\", 2: \"IT\", 3:\"EXTC\"}\n",
    "print(d)"
   ]
  },
  {
   "cell_type": "code",
   "execution_count": 132,
   "metadata": {},
   "outputs": [
    {
     "name": "stdout",
     "output_type": "stream",
     "text": [
      "{'COMP': 3, 'IT': 1, 'EXTC': 2}\n"
     ]
    }
   ],
   "source": [
    "d1 = {\"COMP\" : 3, \"IT\": 1, \"EXTC\":2}\n",
    "print(d1)"
   ]
  },
  {
   "cell_type": "code",
   "execution_count": 140,
   "metadata": {},
   "outputs": [
    {
     "name": "stdout",
     "output_type": "stream",
     "text": [
      "COMP\n",
      "MACHINE\n",
      "{1: 'MACHINE', 2: 'IT', 3: 'EXTC'}\n",
      "{2: 'IT', 3: 'EXTC'}\n",
      "{}\n"
     ]
    }
   ],
   "source": [
    "d = {1:\"COMP\", 2: \"IT\", 3:\"EXTC\"}\n",
    "print(d[1])\n",
    "d[1]=\"MACHINE\"\n",
    "print(d[1])\n",
    "print(d)\n",
    "del d[1]\n",
    "print(d)\n",
    "d.clear()\n",
    "print(d)"
   ]
  },
  {
   "cell_type": "code",
   "execution_count": 144,
   "metadata": {},
   "outputs": [
    {
     "name": "stdout",
     "output_type": "stream",
     "text": [
      "True\n",
      "{1: 'COMP', 2: 'IT', 3: 'EXTC'}\n",
      "3\n",
      "dict_keys([1, 2, 3])\n",
      "dict_values(['COMP', 'IT', 'EXTC'])\n"
     ]
    }
   ],
   "source": [
    "d = {1:\"COMP\", 2: \"IT\", 3:\"EXTC\"}\n",
    "print(3 in d)\n",
    "print(str(d))\n",
    "print(len(d))\n",
    "print(d.keys())\n",
    "print(d.values())"
   ]
  },
  {
   "cell_type": "code",
   "execution_count": 145,
   "metadata": {},
   "outputs": [
    {
     "name": "stdout",
     "output_type": "stream",
     "text": [
      "{1: 'COMP', 2: 'IT', 3: 'EXTC'}\n",
      "{100: 'CHEM'}\n",
      "{1: 'COMP', 2: 'IT', 3: 'EXTC', 100: 'CHEM'}\n"
     ]
    }
   ],
   "source": [
    "d1 = {1:\"COMP\", 2: \"IT\", 3:\"EXTC\"}\n",
    "d2 = {100:\"CHEM\"}\n",
    "print(d1)\n",
    "print(d2)\n",
    "d1.update(d2)\n",
    "print(d1)"
   ]
  },
  {
   "cell_type": "markdown",
   "metadata": {},
   "source": [
    "Random Module\n",
    "--\n",
    "\n",
    "It is used to deal with numbers in random manner."
   ]
  },
  {
   "cell_type": "code",
   "execution_count": 147,
   "metadata": {},
   "outputs": [
    {
     "name": "stdout",
     "output_type": "stream",
     "text": [
      "5\n",
      "11\n",
      "n\n",
      "940\n",
      "0.2798760865655273\n"
     ]
    }
   ],
   "source": [
    "import random\n",
    "print(random.choice((1,2,3,4,5,6)))\n",
    "print(random.choice([11,22,33,44,55,66]))\n",
    "print(random.choice('Darshan'))\n",
    "print(random.randrange(100,1000,2))\n",
    "print(random.random())"
   ]
  },
  {
   "cell_type": "code",
   "execution_count": 149,
   "metadata": {},
   "outputs": [
    {
     "name": "stdout",
     "output_type": "stream",
     "text": [
      "[1, 2, 3, 6]\n",
      "7.352968434513308\n",
      "8.428696324096846\n"
     ]
    }
   ],
   "source": [
    "st=[1,3,2,6]\n",
    "random.shuffle(st)\n",
    "print(st)\n",
    "#Try executing\n",
    "#print(random.shuffle(st))\n",
    "print(random.uniform(7,14))\n",
    "print(random.uniform(7,14))"
   ]
  },
  {
   "cell_type": "code",
   "execution_count": 4,
   "metadata": {},
   "outputs": [
    {
     "name": "stdout",
     "output_type": "stream",
     "text": [
      "{1: ['1', 2], 2: ['1', '2'], 3: ['2', '3'], 4: ['3']}\n",
      "<class 'dict'>\n"
     ]
    }
   ],
   "source": [
    "# Dictionary can contain lists\n",
    "l = {1: ['1',2], 2: ['1', '2'], 3: ['2', '3'], 4: ['3']}\n",
    "print(l)\n",
    "print(type(l))"
   ]
  },
  {
   "cell_type": "code",
   "execution_count": 14,
   "metadata": {},
   "outputs": [
    {
     "name": "stdout",
     "output_type": "stream",
     "text": [
      "{1: ('1', 2), 2: ('1', '2'), 3: ('2', '3'), 4: '3'}\n",
      "<class 'dict'>\n"
     ]
    }
   ],
   "source": [
    "# Dictionary can contain tuples\n",
    "l = {1: ('1',2), 2: ('1', '2'), 3: ('2', '3'), 4: ('3')}\n",
    "print(l)\n",
    "print(type(l))"
   ]
  },
  {
   "cell_type": "code",
   "execution_count": 16,
   "metadata": {},
   "outputs": [
    {
     "name": "stdout",
     "output_type": "stream",
     "text": [
      "{1: ('1', 2), 2: ('1', '2'), 100: {444: ('1', 2), 445: ('1', '2'), 446: ('2', '3')}, 3: ('2', '3'), 4: '3'}\n",
      "<class 'dict'>\n",
      "l[1]=  ('1', 2)\n",
      "l[100]=  {444: ('1', 2), 445: ('1', '2'), 446: ('2', '3')}\n"
     ]
    }
   ],
   "source": [
    "# Dictionary can contain dictionaries\n",
    "l = {1: ('1',2), 2: ('1', '2'), 100:{444: ('1',2), 445: ('1', '2'), 446: ('2', '3')},3: ('2', '3'), 4: ('3')}\n",
    "print(l)\n",
    "print(type(l))\n",
    "print(\"l[1]= \",l[1])\n",
    "print(\"l[100]= \",l[100])"
   ]
  },
  {
   "cell_type": "code",
   "execution_count": 19,
   "metadata": {},
   "outputs": [
    {
     "name": "stdout",
     "output_type": "stream",
     "text": [
      "[1, 2, (999, 888), 3, 4]\n",
      "(999, 888)\n",
      "<class 'list'>\n",
      "<class 'tuple'>\n"
     ]
    }
   ],
   "source": [
    "# List can contain tuples\n",
    "l=[1,2,(999,888),3,4]\n",
    "print(l)\n",
    "print(l[2])\n",
    "print(type(l))\n",
    "print(type(l[2]))"
   ]
  },
  {
   "cell_type": "code",
   "execution_count": 20,
   "metadata": {},
   "outputs": [
    {
     "name": "stdout",
     "output_type": "stream",
     "text": [
      "(1, 2, [999, 888], 3, 4)\n",
      "[999, 888]\n",
      "<class 'tuple'>\n",
      "<class 'list'>\n"
     ]
    }
   ],
   "source": [
    "# Tuple can contain lists\n",
    "l = (1,2,[999,888],3,4)\n",
    "print(l)\n",
    "print(l[2])\n",
    "print(type(l))\n",
    "print(type(l[2]))"
   ]
  }
 ],
 "metadata": {
  "kernelspec": {
   "display_name": "Python 3",
   "language": "python",
   "name": "python3"
  },
  "language_info": {
   "codemirror_mode": {
    "name": "ipython",
    "version": 3
   },
   "file_extension": ".py",
   "mimetype": "text/x-python",
   "name": "python",
   "nbconvert_exporter": "python",
   "pygments_lexer": "ipython3",
   "version": "3.7.3"
  }
 },
 "nbformat": 4,
 "nbformat_minor": 2
}
