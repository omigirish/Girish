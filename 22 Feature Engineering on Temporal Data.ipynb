{
 "cells": [
  {
   "cell_type": "markdown",
   "metadata": {},
   "source": [
    "# Feature Engineering on Temporal Data"
   ]
  },
  {
   "cell_type": "raw",
   "metadata": {},
   "source": [
    "Temporal data, especially time-series based data is extensively used in multiple domains like stock, commodity, and weather forecasting."
   ]
  },
  {
   "cell_type": "code",
   "execution_count": 1,
   "metadata": {},
   "outputs": [],
   "source": [
    "##--Import necessary dependencies and settings\n",
    "\n",
    "import datetime\n",
    "import numpy as np\n",
    "import pandas as pd\n",
    "from dateutil.parser import parse\n",
    "import pytz  # contains world time zones"
   ]
  },
  {
   "cell_type": "code",
   "execution_count": 2,
   "metadata": {},
   "outputs": [
    {
     "name": "stdout",
     "output_type": "stream",
     "text": [
      "                               Time\n",
      "0  2015-03-08 10:30:00.360000+00:00\n",
      "1  2017-07-13 15:45:05.755000-07:00\n",
      "2  2012-01-20 23:30:00.254000+05:30\n",
      "3  2016-12-25 00:30:00.000000+10:00\n"
     ]
    }
   ],
   "source": [
    "##--Load and process sample temporal data\n",
    "time_stamps = ['2015-03-08 10:30:00.360000+00:00', \n",
    "               '2017-07-13 15:45:05.755000-07:00', \n",
    "               '2012-01-20 23:30:00.254000+05:30', \n",
    "               '2016-12-25 00:30:00.000000+10:00']\n",
    "df = pd.DataFrame(time_stamps, columns=['Time'])\n",
    "print(df)"
   ]
  },
  {
   "cell_type": "code",
   "execution_count": 3,
   "metadata": {},
   "outputs": [
    {
     "name": "stdout",
     "output_type": "stream",
     "text": [
      "printing time-stamp objects....\n",
      "[Timestamp('2015-03-08 10:30:00.360000+0000', tz='UTC')\n",
      " Timestamp('2017-07-13 15:45:05.755000-0700', tz='pytz.FixedOffset(-420)')\n",
      " Timestamp('2012-01-20 23:30:00.254000+0530', tz='pytz.FixedOffset(330)')\n",
      " Timestamp('2016-12-25 00:30:00+1000', tz='pytz.FixedOffset(600)')]\n"
     ]
    }
   ],
   "source": [
    "# by default, all time values are stored as strings or text in the dataframe \n",
    "# so we can convert time into Timestamp object by using the \n",
    "# following code snippet\n",
    "\n",
    "print(\"printing time-stamp objects....\")\n",
    "\n",
    "ts_objs = np.array([pd.Timestamp(item) for item in np.array(df.Time)])\n",
    "\n",
    "df['TS_obj'] = ts_objs\n",
    "\n",
    "print(ts_objs)"
   ]
  },
  {
   "cell_type": "raw",
   "metadata": {},
   "source": [
    "You can clearly see from the temporal values that we have multiple components for each Timestamp object which include date, time, and even a time based offset, which can be used to identify the time zone also. \n",
    "\n",
    "Of course there is no way we can directly ingest or use these features in any Machine Learning model. Hence we need specific strategies to extract meaningful features from this data. (as in below code)"
   ]
  },
  {
   "cell_type": "code",
   "execution_count": 4,
   "metadata": {},
   "outputs": [
    {
     "name": "stdout",
     "output_type": "stream",
     "text": [
      "                               Time  Year  Month  Day  Quarter  DayOfWeek  \\\n",
      "0  2015-03-08 10:30:00.360000+00:00  2015      3    8        1          6   \n",
      "1  2017-07-13 15:45:05.755000-07:00  2017      7   13        3          3   \n",
      "2  2012-01-20 23:30:00.254000+05:30  2012      1   20        1          4   \n",
      "3  2016-12-25 00:30:00.000000+10:00  2016     12   25        4          6   \n",
      "\n",
      "   DayOfYear  WeekOfYear  \n",
      "0         67          10  \n",
      "1        194          28  \n",
      "2         20           3  \n",
      "3        360          51  \n"
     ]
    }
   ],
   "source": [
    "##--Date based features\n",
    "df['Year'] = df['TS_obj'].apply(lambda d: d.year)\n",
    "df['Month'] = df['TS_obj'].apply(lambda d: d.month)\n",
    "df['Day'] = df['TS_obj'].apply(lambda d: d.day)\n",
    "df['DayOfWeek'] = df['TS_obj'].apply(lambda d: d.dayofweek)\n",
    "df['DayOfYear'] = df['TS_obj'].apply(lambda d: d.dayofyear)\n",
    "df['WeekOfYear'] = df['TS_obj'].apply(lambda d: d.weekofyear)\n",
    "df['Quarter'] = df['TS_obj'].apply(lambda d: d.quarter)\n",
    "\n",
    "print(df[['Time', 'Year', 'Month', 'Day', 'Quarter', \n",
    "    'DayOfWeek', 'DayOfYear', 'WeekOfYear']])\n",
    "\n",
    "# to get DayName from dayOfWeek no.\n",
    "# Code Solution is here :\n",
    "#https://stackoverflow.com/questions/36341484/get-day-name-from-weekday-int/36341648\n"
   ]
  },
  {
   "cell_type": "markdown",
   "metadata": {},
   "source": [
    "# Time-Based Features\n",
    "\n",
    "Each temporal value also has a time component that can be used to extract useful information and features pertaining to the time. These include attributes like hour, minute, second, microsecond, and more."
   ]
  },
  {
   "cell_type": "code",
   "execution_count": 5,
   "metadata": {},
   "outputs": [
    {
     "name": "stdout",
     "output_type": "stream",
     "text": [
      "                               Time  Hour  Minute  Second  MUsecond\n",
      "0  2015-03-08 10:30:00.360000+00:00    10      30       0    360000\n",
      "1  2017-07-13 15:45:05.755000-07:00    15      45       5    755000\n",
      "2  2012-01-20 23:30:00.254000+05:30    23      30       0    254000\n",
      "3  2016-12-25 00:30:00.000000+10:00     0      30       0         0\n"
     ]
    }
   ],
   "source": [
    "# # Time based features\n",
    "\n",
    "df['Hour'] = df['TS_obj'].apply(lambda d: d.hour)\n",
    "df['Minute'] = df['TS_obj'].apply(lambda d: d.minute)\n",
    "df['Second'] = df['TS_obj'].apply(lambda d: d.second)\n",
    "df['MUsecond'] = df['TS_obj'].apply(lambda d: d.microsecond)\n",
    "\n",
    "print(df[['Time', 'Hour', 'Minute', 'Second', 'MUsecond']])"
   ]
  },
  {
   "cell_type": "code",
   "execution_count": 6,
   "metadata": {},
   "outputs": [
    {
     "name": "stdout",
     "output_type": "stream",
     "text": [
      "                               Time  Hour TimeOfDayBin\n",
      "0  2015-03-08 10:30:00.360000+00:00    10      Morning\n",
      "1  2017-07-13 15:45:05.755000-07:00    15    Afternoon\n",
      "2  2012-01-20 23:30:00.254000+05:30    23        Night\n",
      "3  2016-12-25 00:30:00.000000+10:00     0   Late Night\n"
     ]
    }
   ],
   "source": [
    "# Let’s try to use binning to bin each temporal value into \n",
    "# a specific time of the day by leveraging the Hour feature we just obtained.\n",
    "hour_bins = [-1, 5, 11, 16, 21, 23]\n",
    "bin_names = ['Late Night', 'Morning', 'Afternoon', 'Evening', 'Night']\n",
    "\n",
    "df['TimeOfDayBin'] = pd.cut(df['Hour'], bins=hour_bins, labels=bin_names)\n",
    "# Thus you can see from the preceding output that based on hour ranges \n",
    "# (0-5, 5-11, 11-16, 16-21,21-23) we have assigned \n",
    "# a specific time of the day bin for each temporal value.\n",
    "\n",
    "print(df[['Time', 'Hour', 'TimeOfDayBin']])"
   ]
  }
 ],
 "metadata": {
  "kernelspec": {
   "display_name": "Python 3",
   "language": "python",
   "name": "python3"
  },
  "language_info": {
   "codemirror_mode": {
    "name": "ipython",
    "version": 3
   },
   "file_extension": ".py",
   "mimetype": "text/x-python",
   "name": "python",
   "nbconvert_exporter": "python",
   "pygments_lexer": "ipython3",
   "version": "3.7.4"
  }
 },
 "nbformat": 4,
 "nbformat_minor": 2
}
